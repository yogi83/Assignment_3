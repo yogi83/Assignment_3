{
 "cells": [
  {
   "cell_type": "code",
   "execution_count": null,
   "metadata": {},
   "outputs": [],
   "source": [
    "# filter function gives output only those values which are satisfied by the condition given in the function\n",
    "def ownfilter(func, iterables):\n",
    "    l = []\n",
    "    for i in iterables:\n",
    "        if func(i) == True:\n",
    "            l.append(i)\n",
    "    return(l)\n",
    "    \n",
    "l1 = [3,4,5,6]\n",
    "#ownfilter(lambda x:x%2==0, l1)\n",
    "def iseven(num):\n",
    "    if num%2 == 0:\n",
    "        return True\n",
    "ownfilter(iseven,l1)\n"
   ]
  },
  {
   "cell_type": "code",
   "execution_count": null,
   "metadata": {},
   "outputs": [],
   "source": [
    " # making your own reduce function \n",
    "def own_reduce(func,b):\n",
    "    list_1 = []\n",
    "    for i in b:\n",
    "        if func(i,i+1):\n",
    "            list_1.append(func(i,i+1))\n",
    "            \n",
    "        else:\n",
    "            return(\"an error occured\")\n",
    "    return(list_1)    \n",
    "\n",
    "def add_num(a,b):\n",
    "    return(a + b)\n",
    "\n",
    "l = [2,3,4,5]\n",
    "list(own_reduce(add_num,l))"
   ]
  },
  {
   "cell_type": "code",
   "execution_count": null,
   "metadata": {},
   "outputs": [],
   "source": [
    "# list comprehension to produce folllowing line :\n",
    "#['x', 'xx', 'xxx', 'xxxx', 'y', 'yy', 'yyy', 'yyyy', 'z', 'zz', 'zzz', 'zzzz'] \n",
    "#['x', 'y', 'z', 'xx', 'yy', 'zz', 'xxx', 'yyy', 'zzz', 'xxxx', 'yyyy', 'zzzz']\n",
    "#[[2], [3], [4], [3], [4], [5], [4], [5], [6]] \n",
    "#[[2,3,4,5],[3,4,5,6],[4,5,6,7],[5,6,7,8]]\n",
    "#[(1, 1), (2, 1), (3, 1), (1, 2), (2, 2), (3, 2), (1, 3), (2, 3), (3, 3)]\n",
    "\n",
    "\n",
    "[i*j for i in ['x','y','z'] for j in range(1,5)]\n",
    "[i*j for i in range(1,5) for j in ['x','y','z']]\n",
    "[[i+j] for i in range(3) for j in [2,3,4]]\n",
    "[[i+j for i in [2,3,4,5]] for j in range(4) ]\n",
    "[(j,i)for i in range(1,4) for j in [1,2,3]]\n"
   ]
  }
 ],
 "metadata": {
  "kernelspec": {
   "display_name": "Python 3",
   "language": "python",
   "name": "python3"
  },
  "language_info": {
   "codemirror_mode": {
    "name": "ipython",
    "version": 3
   },
   "file_extension": ".py",
   "mimetype": "text/x-python",
   "name": "python",
   "nbconvert_exporter": "python",
   "pygments_lexer": "ipython3",
   "version": "3.6.8"
  }
 },
 "nbformat": 4,
 "nbformat_minor": 2
}
